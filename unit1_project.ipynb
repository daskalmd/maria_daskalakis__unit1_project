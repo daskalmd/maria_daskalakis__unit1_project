{
 "cells": [
  {
   "cell_type": "markdown",
   "metadata": {},
   "source": [
    "<img src=\"http://imgur.com/1ZcRyrc.png\" style=\"float: left; margin: 20px; height: 55px\">\n",
    "\n",
    "# Project 1: Python Coding Exercises\n",
    "\n",
    "_Authors: Joseph Nelson (DC) _\n",
    "\n",
    "---"
   ]
  },
  {
   "cell_type": "markdown",
   "metadata": {},
   "source": [
    "The following code challenges are drawn from common exercises used in technical interviews.\n",
    "\n",
    "Please note that there may be several ways to approach each challenge. If you get stuck, try mapping out your approach in pseudocode first. Finally, while solutions to problems like these may be found online, remember that if you copy/paste code that you can't explain, you'll be missing out on the point of the project. The only way to truly learn a new skill is through practice, trial, and error - we can only help you improve by understanding where you are having trouble."
   ]
  },
  {
   "cell_type": "markdown",
   "metadata": {},
   "source": [
    "### Challenge 1: Largest Palindrome\n",
    "A palindromic number reads the same both ways. For example, 1234321 is a palindrome. The largest palindrome made from the product of two two-digit numbers is 9009 = 91 × 99. Find the largest palindrome made from the product of two three-digit numbers. Afterward, write a brief explanation walking through your code's logic in markdown."
   ]
  },
  {
   "cell_type": "code",
   "execution_count": 15,
   "metadata": {},
   "outputs": [
    {
     "name": "stdout",
     "output_type": "stream",
     "text": [
      "906609\n"
     ]
    }
   ],
   "source": [
    "palindrome = []\n",
    "\n",
    "for num1 in range(100, 1000):\n",
    "    for num2 in range(100, 1000):\n",
    "        product = (num1 * num2) \n",
    "    \n",
    "        characters = []\n",
    "        for char in str(product):\n",
    "            characters.append(char)\n",
    "        if characters == characters[::-1]: #used reverse (slice) index from Greg in Slack\n",
    "            palindrome.append(product)\n",
    "print(max(palindrome)) #originally I was printing ALL the palindrome numbers, but used max function to get the correct result"
   ]
  },
  {
   "cell_type": "markdown",
   "metadata": {},
   "source": [
    "First create an empty list for palindrome. Use a for loop to go through each number in the specified range.  Use a 2nd (nested) for loop to go through the same range of numbers again. Calculate the product of each number in both ranges.  Create another empty list for the individual characters within the product items.  Go through each character and append it to characters.  Use the [::-1] slice index to reverse the list of characters and then compare if they are equal.  If this condition is true, then populate the product into the palindrome empty list.  Use the max function to identify and print the final answer."
   ]
  },
  {
   "cell_type": "markdown",
   "metadata": {},
   "source": [
    "\n",
    "### Challenge 2: Summation of Primes\n",
    "The sum of the primes below 10 is 2 + 3 + 5 + 7 = 17. Find the sum of all the primes below 2,000. Afterward, write a brief explanation walking through your code's logic in markdown."
   ]
  },
  {
   "cell_type": "code",
   "execution_count": 131,
   "metadata": {
    "collapsed": true
   },
   "outputs": [
    {
     "name": "stdout",
     "output_type": "stream",
     "text": [
      "277050 is the sum of prime numbers below 2,000\n"
     ]
    }
   ],
   "source": [
    "primenum = 0\n",
    "prime_list = []\n",
    "for x in range(2, 2000):\n",
    "    primenum = True #I had to add this condition to run successfully but don't fully understand why it's required here..\n",
    "    for y in range(2, x):\n",
    "        if x % y == 0: \n",
    "            primenum = False  \n",
    "            break \n",
    "   \n",
    "    if primenum != False: \n",
    "        prime_list.append(x)\n",
    "print(sum(prime_list), 'is the sum of prime numbers below 2,000')"
   ]
  },
  {
   "cell_type": "markdown",
   "metadata": {},
   "source": [
    "(Sorry, this explanation is super detailed to help me remember how I did this!!)  \n",
    "Prime numbers can only be evenly divided by 1 and itself.  We need to evaluate all numbers below 2,000. We can start with 2 since 1 can only be divided by itself and is not prime.  \n",
    "1) Create variable 'primenum' to identify prime vs not prime and create an empty list to store the list of prime numbers.  \n",
    "3) Use a for loop to iterate through all numbers from 2 through 1,999 and set primenum = True (if prime).  \n",
    "4) Use a 2nd (nested) for loop to evaluate 2 through x (x, from the first for loop).  \n",
    "5) Use modulo operator to identify remainder from dividing all numbers in the range.  Those with zero remainder are not prime, (primenum = False).\n",
    "6) Added \"break\" (suggested by Adi).  Do we need this?  It runs with / without it.\n",
    "7) Any of those with a remainder are prime, so primenum (not equal) to False and appended those values of x to the emtpy list for prime numbers.  \n",
    "8) Printed the sum of those numbers"
   ]
  },
  {
   "cell_type": "markdown",
   "metadata": {},
   "source": [
    "### Challenge 3: Multiples of 3 and 5\n",
    "If we list all of the natural numbers below 10 that are multiples of 3 or 5, we get 3, 5, 6, and 9. The sum of these multiples is 23. Find the sum of all the multiples of 3 or 5 below 1,000. Afterward, write a brief explanation walking through your code's logic in markdown."
   ]
  },
  {
   "cell_type": "code",
   "execution_count": 164,
   "metadata": {
    "collapsed": true
   },
   "outputs": [
    {
     "name": "stdout",
     "output_type": "stream",
     "text": [
      "233168 is the sum of all multiples of 3 or 5 below 1,000\n"
     ]
    }
   ],
   "source": [
    "total = 0 \n",
    "for x in range(1, 1000): \n",
    "    if x % 3 == 0 or x % 5 == 0:\n",
    "        total = total + x\n",
    "print(total, 'is the sum of all multiples of 3 or 5 below 1,000') "
   ]
  },
  {
   "cell_type": "markdown",
   "metadata": {},
   "source": [
    "First define a variable total = 0 to set initial starting point. Use for loop to evaluate all numbers from 1 to 999.  Use modulo operator % to identify numbers that are multiples of 3 or 5 (in this case the remainder should be 0).  Use if statement to evaluate the 2 conditions and print the variable total.\n",
    "First used the below code to test results, then updated the last value of the range:\n",
    "total = 0 \n",
    "for x in range(1, 10): \n",
    "    if x % 3 == 0 or x % 5 == 0:\n",
    "        total = total + x\n",
    "print(total) #originally I had this print function within the for loop which printed every line. "
   ]
  },
  {
   "cell_type": "markdown",
   "metadata": {},
   "source": [
    "### Challenge 4: String Compressor\n",
    "Implement a method to perform basic string compression using the counts of repeated characters. (This is called run-length encoding.) For example, the string \"aabcccccaaa\" would become a2b1c5a3. If the “compressed” string would not become smaller than the original string, your method should return the original string. You can assume the string has only uppercase and lowercase letters (a–z). Specify whether your solution is case sensitive or case insensitive and what you would need to change to make it the other. Afterward, write a brief explanation walking through your code's logic in markdown."
   ]
  },
  {
   "cell_type": "code",
   "execution_count": 167,
   "metadata": {
    "collapsed": true
   },
   "outputs": [
    {
     "name": "stdout",
     "output_type": "stream",
     "text": [
      "b4\n"
     ]
    }
   ],
   "source": [
    "def letter_counter(string):\n",
    "    num_letters = 0\n",
    "    letter = \"\" \n",
    "    for x in range(len(string)-1):   #creates index range to be evaluated starting index[0] 1- len of the string \n",
    "        if(string[x] == string[x+1]): #compare if first character == the next one using indexe\n",
    "            num_letters = num_letters + 1 #add a counter\n",
    "            for char in string:\n",
    "                if num_letters > 0:\n",
    "                    letter = char #assign character to letter        \n",
    "    return print(letter + str(num_letters))\n",
    "\n",
    "letter_counter('aabbbb')"
   ]
  },
  {
   "cell_type": "markdown",
   "metadata": {},
   "source": [
    "I wasn't able to get this to work correctly.  I tried using a function to input the values of string.  First define a variable num_letters = 0 to set the counter to zero and an empty string for letter.  Use for loop to evaluate the position of each character in the string using indexing.  If the value of that index position is the same as the next position, then add 1 to the num_letters counter.  Add another for loop to evaluate each character within the string and assign it to the empty letter string.  Then print the results of letter and the counter.  "
   ]
  },
  {
   "cell_type": "markdown",
   "metadata": {},
   "source": [
    "### Challenge 5: FizzBuzz\n",
    "\n",
    "Write a program that prints all of the numbers from 1 to 100. For multiples of 3, instead of the number, print \"Fizz;\" for multiples of 5, print \"Buzz.\" For numbers that are multiples of both 3 and 5, print \"FizzBuzz.\" Afterward, write a brief explanation walking through your code's logic in markdown."
   ]
  },
  {
   "cell_type": "code",
   "execution_count": 6,
   "metadata": {
    "collapsed": true
   },
   "outputs": [
    {
     "name": "stdout",
     "output_type": "stream",
     "text": [
      "1\n",
      "2\n",
      "Fizz\n",
      "4\n",
      "Buzz\n",
      "Fizz\n",
      "7\n",
      "8\n",
      "Fizz\n",
      "Buzz\n",
      "11\n",
      "Fizz\n",
      "13\n",
      "14\n",
      "FizzBuzz\n",
      "16\n",
      "17\n",
      "Fizz\n",
      "19\n",
      "Buzz\n",
      "Fizz\n",
      "22\n",
      "23\n",
      "Fizz\n",
      "Buzz\n",
      "26\n",
      "Fizz\n",
      "28\n",
      "29\n",
      "FizzBuzz\n",
      "31\n",
      "32\n",
      "Fizz\n",
      "34\n",
      "Buzz\n",
      "Fizz\n",
      "37\n",
      "38\n",
      "Fizz\n",
      "Buzz\n",
      "41\n",
      "Fizz\n",
      "43\n",
      "44\n",
      "FizzBuzz\n",
      "46\n",
      "47\n",
      "Fizz\n",
      "49\n",
      "Buzz\n",
      "Fizz\n",
      "52\n",
      "53\n",
      "Fizz\n",
      "Buzz\n",
      "56\n",
      "Fizz\n",
      "58\n",
      "59\n",
      "FizzBuzz\n",
      "61\n",
      "62\n",
      "Fizz\n",
      "64\n",
      "Buzz\n",
      "Fizz\n",
      "67\n",
      "68\n",
      "Fizz\n",
      "Buzz\n",
      "71\n",
      "Fizz\n",
      "73\n",
      "74\n",
      "FizzBuzz\n",
      "76\n",
      "77\n",
      "Fizz\n",
      "79\n",
      "Buzz\n",
      "Fizz\n",
      "82\n",
      "83\n",
      "Fizz\n",
      "Buzz\n",
      "86\n",
      "Fizz\n",
      "88\n",
      "89\n",
      "FizzBuzz\n",
      "91\n",
      "92\n",
      "Fizz\n",
      "94\n",
      "Buzz\n",
      "Fizz\n",
      "97\n",
      "98\n",
      "Fizz\n",
      "Buzz\n"
     ]
    }
   ],
   "source": [
    "x = 0\n",
    "for x in range(1, 101): \n",
    "    if x % 3 == 0 and x % 5 == 0:\n",
    "        print(\"FizzBuzz\") \n",
    "    elif x % 3 == 0: \n",
    "        print(\"Fizz\")\n",
    "    elif x % 5 == 0: \n",
    "        print(\"Buzz\")\n",
    "    else:\n",
    "        print(x)\n",
    "        x = x+1   "
   ]
  },
  {
   "cell_type": "markdown",
   "metadata": {},
   "source": [
    "First define a variable x = 0 to set the counter to zero. Use for loop with range function to evaluate all numbers from 1 to 100.  The last number is excluded in the range (1, 101).  Use modulo operator % to identify numbers that are multiples of 3 or 5, in these cases the remainder should be 0.  Use if statement first identify multiples of both 3 and 5 first, then used elif to evaluate the other conditions, i.e. multiples of 3, multiples of 5.  Use print function to display requested result and add 1 to x to print remaining numbers that didn't meet the conditions.\n",
    "\n",
    "First used the below code to test results, then removed x from the print function:\n",
    "x = 0\n",
    "for x in range(1, 101):\n",
    "    if x % 3 == 0 and x % 5 == 0:\n",
    "        print(x, \" FizzBuzz\") \n",
    "    elif x % 3 == 0: \n",
    "        print(x, \" Fizz\")\n",
    "    elif x % 5 == 0: \n",
    "        print(x, \" Buzz\")\n",
    "    else:\n",
    "        print(x)\n",
    "        x = x+1   "
   ]
  }
 ],
 "metadata": {
  "anaconda-cloud": {},
  "kernelspec": {
   "display_name": "Python 3",
   "language": "python",
   "name": "python3"
  },
  "language_info": {
   "codemirror_mode": {
    "name": "ipython",
    "version": 3
   },
   "file_extension": ".py",
   "mimetype": "text/x-python",
   "name": "python",
   "nbconvert_exporter": "python",
   "pygments_lexer": "ipython3",
   "version": "3.7.0"
  }
 },
 "nbformat": 4,
 "nbformat_minor": 2
}
